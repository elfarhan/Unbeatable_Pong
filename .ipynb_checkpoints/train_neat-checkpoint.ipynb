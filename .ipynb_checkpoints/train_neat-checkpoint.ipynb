{
 "cells": [
  {
   "cell_type": "code",
   "execution_count": 1,
   "id": "b997ef1f",
   "metadata": {},
   "outputs": [
    {
     "name": "stdout",
     "output_type": "stream",
     "text": [
      "pygame 2.6.1 (SDL 2.28.4, Python 3.10.14)\n",
      "Hello from the pygame community. https://www.pygame.org/contribute.html\n"
     ]
    }
   ],
   "source": [
    "import neat\n",
    "import pygame\n",
    "import numpy as np\n",
    "from assets import *\n",
    "from agents import *\n",
    "from pong import main\n",
    "\n"
   ]
  },
  {
   "cell_type": "code",
   "execution_count": 2,
   "id": "914e8d7b",
   "metadata": {},
   "outputs": [],
   "source": [
    "config = \"\"\"\n",
    "[NEAT]\n",
    "fitness_criterion     = max\n",
    "fitness_threshold     = 1000\n",
    "pop_size              = 50\n",
    "reset_on_extinction   = False\n",
    "\n",
    "[DefaultGenome]\n",
    "# node activation options\n",
    "activation_default      = tanh\n",
    "activation_mutate_rate  = 0.0\n",
    "activation_options      = tanh\n",
    "\n",
    "# node aggregation options\n",
    "aggregation_default     = sum\n",
    "aggregation_mutate_rate = 0.0\n",
    "aggregation_options     = sum\n",
    "\n",
    "# node bias options\n",
    "bias_init_mean          = 0.0\n",
    "bias_init_stdev         = 1.0\n",
    "bias_max_value          = 30.0\n",
    "bias_min_value          = -30.0\n",
    "bias_mutate_power       = 0.5\n",
    "bias_mutate_rate        = 0.7\n",
    "bias_replace_rate       = 0.1\n",
    "\n",
    "# genome compatibility options\n",
    "compatibility_disjoint_coefficient = 1.0\n",
    "compatibility_weight_coefficient   = 0.5\n",
    "\n",
    "# connection add/remove rates\n",
    "conn_add_prob           = 0.5\n",
    "conn_delete_prob        = 0.5\n",
    "\n",
    "# connection weight options\n",
    "weight_init_mean        = 0.0\n",
    "weight_init_stdev       = 1.0\n",
    "weight_max_value        = 30\n",
    "weight_min_value        = -30\n",
    "weight_mutate_power     = 0.5\n",
    "weight_mutate_rate      = 0.8\n",
    "weight_replace_rate     = 0.1\n",
    "\n",
    "# node add/remove rates\n",
    "node_add_prob           = 0.2\n",
    "node_delete_prob        = 0.2\n",
    "\n",
    "# network parameters\n",
    "num_hidden              = 0\n",
    "num_inputs              = 6\n",
    "num_outputs             = 1\n",
    "\n",
    "[DefaultSpeciesSet]\n",
    "compatibility_threshold = 3.0\n",
    "\n",
    "[DefaultStagnation]\n",
    "species_fitness_func    = max\n",
    "max_stagnation          = 15\n",
    "species_elitism         = 2\n",
    "\n",
    "[DefaultReproduction]\n",
    "elitism                 = 2\n",
    "survival_threshold      = 0.2\n",
    "\n",
    "\"\"\""
   ]
  },
  {
   "cell_type": "code",
   "execution_count": 3,
   "id": "b0318021",
   "metadata": {},
   "outputs": [],
   "source": [
    "\n",
    "def eval_genomes(genomes, config):\n",
    "    for genome_id, genome in genomes:\n",
    "        net = neat.nn.FeedForwardNetwork.create(genome, config)\n",
    "        game = Pong(SCREEN_HEIGHT=899, difficulty=8)\n",
    "        fitness = 0\n",
    "        done = False\n",
    "        clock = pygame.time.Clock()\n",
    "\n",
    "        while not done:\n",
    "            clock.tick(60)\n",
    "            \n",
    "            state = game.get_game_state()\n",
    "            output = net.activate(state)\n",
    "            action = output[0]\n",
    "\n",
    "            if action < -0.33:\n",
    "                game.rectangle_down.move_left()\n",
    "            elif action > 0.33:\n",
    "                game.rectangle_down.move_right()\n",
    "            ai_action = move_towards_the_ball(state, game.rectangle_up)\n",
    "            game.ball.move()\n",
    "            game.handle_collisions()\n",
    "            game.draw_game()\n",
    "\n",
    "            # reward for scoring the ball / penalty for missing\n",
    "            fitness = game.SCORE_DOWN-game.SCORE_UP\n",
    "\n",
    "            for event in pygame.event.get():\n",
    "                if event.type == pygame.QUIT:\n",
    "                    done = True\n",
    "                    pygame.quit()\n",
    "                    return\n",
    "\n",
    "            if game.SCORE_DOWN == 10 or game.SCORE_UP == 10:\n",
    "                done = True  \n",
    "\n",
    "        genome.fitness = fitness\n",
    "\n",
    "\n"
   ]
  },
  {
   "cell_type": "code",
   "execution_count": 4,
   "id": "74f8018f",
   "metadata": {},
   "outputs": [],
   "source": [
    "def run_neat(config_path):\n",
    "    config = neat.Config(\n",
    "        neat.DefaultGenome,\n",
    "        neat.DefaultReproduction,\n",
    "        neat.DefaultSpeciesSet,\n",
    "        neat.DefaultStagnation,\n",
    "        config_path\n",
    "    )\n",
    "\n",
    "    p = neat.Population(config)\n",
    "    p.add_reporter(neat.StdOutReporter(True))\n",
    "    stats = neat.StatisticsReporter()\n",
    "    p.add_reporter(stats)\n",
    "\n",
    "    winner = p.run(eval_genomes, 50)\n",
    "    return winner\n",
    "\n",
    "\n",
    "\n",
    "\n"
   ]
  },
  {
   "cell_type": "code",
   "execution_count": 5,
   "id": "b8473970",
   "metadata": {},
   "outputs": [
    {
     "name": "stdout",
     "output_type": "stream",
     "text": [
      "\n",
      " ****** Running generation 0 ****** \n",
      "\n"
     ]
    },
    {
     "ename": "TypeError",
     "evalue": "'>' not supported between instances of 'NoneType' and 'int'",
     "output_type": "error",
     "traceback": [
      "\u001b[0;31m---------------------------------------------------------------------------\u001b[0m",
      "\u001b[0;31mTypeError\u001b[0m                                 Traceback (most recent call last)",
      "Cell \u001b[0;32mIn [5], line 1\u001b[0m\n\u001b[0;32m----> 1\u001b[0m \u001b[43mrun_neat\u001b[49m\u001b[43m(\u001b[49m\u001b[38;5;124;43m\"\u001b[39;49m\u001b[38;5;124;43mconfig-feedforward.txt\u001b[39;49m\u001b[38;5;124;43m\"\u001b[39;49m\u001b[43m)\u001b[49m\n",
      "Cell \u001b[0;32mIn [4], line 15\u001b[0m, in \u001b[0;36mrun_neat\u001b[0;34m(config_path)\u001b[0m\n\u001b[1;32m     12\u001b[0m stats \u001b[38;5;241m=\u001b[39m neat\u001b[38;5;241m.\u001b[39mStatisticsReporter()\n\u001b[1;32m     13\u001b[0m p\u001b[38;5;241m.\u001b[39madd_reporter(stats)\n\u001b[0;32m---> 15\u001b[0m winner \u001b[38;5;241m=\u001b[39m \u001b[43mp\u001b[49m\u001b[38;5;241;43m.\u001b[39;49m\u001b[43mrun\u001b[49m\u001b[43m(\u001b[49m\u001b[43meval_genomes\u001b[49m\u001b[43m,\u001b[49m\u001b[43m \u001b[49m\u001b[38;5;241;43m50\u001b[39;49m\u001b[43m)\u001b[49m\n\u001b[1;32m     16\u001b[0m \u001b[38;5;28;01mreturn\u001b[39;00m winner\n",
      "File \u001b[0;32m/opt/homebrew/lib/python3.10/site-packages/neat/population.py:94\u001b[0m, in \u001b[0;36mPopulation.run\u001b[0;34m(self, fitness_function, n)\u001b[0m\n\u001b[1;32m     92\u001b[0m best \u001b[38;5;241m=\u001b[39m \u001b[38;5;28;01mNone\u001b[39;00m\n\u001b[1;32m     93\u001b[0m \u001b[38;5;28;01mfor\u001b[39;00m g \u001b[38;5;129;01min\u001b[39;00m itervalues(\u001b[38;5;28mself\u001b[39m\u001b[38;5;241m.\u001b[39mpopulation):\n\u001b[0;32m---> 94\u001b[0m     \u001b[38;5;28;01mif\u001b[39;00m best \u001b[38;5;129;01mis\u001b[39;00m \u001b[38;5;28;01mNone\u001b[39;00m \u001b[38;5;129;01mor\u001b[39;00m \u001b[43mg\u001b[49m\u001b[38;5;241;43m.\u001b[39;49m\u001b[43mfitness\u001b[49m\u001b[43m \u001b[49m\u001b[38;5;241;43m>\u001b[39;49m\u001b[43m \u001b[49m\u001b[43mbest\u001b[49m\u001b[38;5;241;43m.\u001b[39;49m\u001b[43mfitness\u001b[49m:\n\u001b[1;32m     95\u001b[0m         best \u001b[38;5;241m=\u001b[39m g\n\u001b[1;32m     96\u001b[0m \u001b[38;5;28mself\u001b[39m\u001b[38;5;241m.\u001b[39mreporters\u001b[38;5;241m.\u001b[39mpost_evaluate(\u001b[38;5;28mself\u001b[39m\u001b[38;5;241m.\u001b[39mconfig, \u001b[38;5;28mself\u001b[39m\u001b[38;5;241m.\u001b[39mpopulation, \u001b[38;5;28mself\u001b[39m\u001b[38;5;241m.\u001b[39mspecies, best)\n",
      "\u001b[0;31mTypeError\u001b[0m: '>' not supported between instances of 'NoneType' and 'int'"
     ]
    }
   ],
   "source": [
    "run_neat(\"config-feedforward.txt\")"
   ]
  },
  {
   "cell_type": "code",
   "execution_count": null,
   "id": "050193cc",
   "metadata": {},
   "outputs": [],
   "source": []
  }
 ],
 "metadata": {
  "kernelspec": {
   "display_name": "Python 3 (ipykernel)",
   "language": "python",
   "name": "python3"
  },
  "language_info": {
   "codemirror_mode": {
    "name": "ipython",
    "version": 3
   },
   "file_extension": ".py",
   "mimetype": "text/x-python",
   "name": "python",
   "nbconvert_exporter": "python",
   "pygments_lexer": "ipython3",
   "version": "3.10.14"
  }
 },
 "nbformat": 4,
 "nbformat_minor": 5
}
